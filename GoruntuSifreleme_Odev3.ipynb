{
  "nbformat": 4,
  "nbformat_minor": 0,
  "metadata": {
    "colab": {
      "provenance": [],
      "authorship_tag": "ABX9TyPoQUYCgx9NQbvQ8T3fm8Me",
      "include_colab_link": true
    },
    "kernelspec": {
      "name": "python3",
      "display_name": "Python 3"
    },
    "language_info": {
      "name": "python"
    }
  },
  "cells": [
    {
      "cell_type": "markdown",
      "metadata": {
        "id": "view-in-github",
        "colab_type": "text"
      },
      "source": [
        "<a href=\"https://colab.research.google.com/github/ezfesoft/KaotikTabanliSifreleme_Odev_23Ekim/blob/main/GoruntuSifreleme_Odev3.ipynb\" target=\"_parent\"><img src=\"https://colab.research.google.com/assets/colab-badge.svg\" alt=\"Open In Colab\"/></a>"
      ]
    },
    {
      "cell_type": "markdown",
      "source": [
        "# ÖDEV 3\n",
        "\n",
        "##  GÖRÜNTÜ ŞİFRELEME TEMELLERİ VE KAOTİK TABANLI GÖRÜNTÜ ŞİFRELEME\n",
        "\n",
        "### Bilgisayar Mühendisliği Doktora Programı\n",
        "\n"
      ],
      "metadata": {
        "id": "Jkd3CasRaGYN"
      }
    },
    {
      "cell_type": "markdown",
      "source": [
        "\n",
        "# Affine Şifreleme Yöntemi ile Metin Şifreleme ve Çözme Uygulaması\n",
        "\n",
        "---\n",
        "## Giriş\n",
        "\n",
        "\n",
        "Kriptografi, verilerin güvenliğini sağlamak amacıyla kullanılan matematiksel yöntemlerden biridir. Kriptografik sistemler içerisinde klasik yöntemlerden biri olan Affine Şifreleme Sistemi oldukça önemli bir yere sahiptir. Bu raporda, Affine şifreleme sistemi kullanılarak Türkçe Z29 alfabesi ile bir metnin şifrelenmesi ve aynı anahtarlarla çözülerek orijinal metne ulaşılması amaçlanmıştır.\n",
        "\n",
        "---\n",
        "## Affine Şifreleme Sistemi\n",
        "\n",
        "Affine Şifreleme Sistemi, bir alfabe üzerindeki her harfi belirli bir matematiksel işleme tabi tutarak şifreler. Bu sistemde her bir harf, aşağıdaki formüle göre başka bir harfe dönüştürülür:\n",
        "\n",
        "* Şifreleme Formülü: 𝐸 ( 𝑥 ) = ( 𝑎 ⋅ 𝑥 + 𝑏 ) m o d 𝑛 E(x)=(a⋅x+b)mod n\n",
        "* Çözme Formülü: 𝐷 ( 𝑦 ) = 𝑎 − 1 ⋅ ( 𝑦 − 𝑏 ) m o d 𝑛 D(y)=a −1 ⋅(y−b)modn\n",
        "\n",
        "Burada:\n",
        "* 𝐸 ( 𝑥 ) E(x): şifrelenmiş harf,\n",
        "* 𝐷 ( 𝑦 ) D(y): çözülmüş (orijinal) harf,\n",
        "* 𝑥 x: orijinal harfin alfabe sırasındaki değeri,\n",
        "* 𝑦 y: şifrelenmiş harfin alfabe sırasındaki değeri,\n",
        "* 𝑎 a: çarpan anahtarı (mod 𝑛 n ile aralarında asal olmalıdır),\n",
        "* 𝑎 − 1 a −1 : çarpan anahtarının mod 𝑛 n tersidir,\n",
        "* 𝑏 b: toplama anahtarı,\n",
        "* 𝑛 n: alfabenin uzunluğu (bu örnekte Türkçe Z29 alfabesi için 𝑛 = 29 n=29 olarak alınacaktır).\n",
        "\n",
        "---\n",
        "\n",
        "## Uygulamada Kullanılan Anahtarlar ve Alfabe\n",
        "Bu çalışma için kullanılan anahtarlar ve alfabe aşağıdaki gibidir:\n",
        "* Alfabe: Türkçe Z29 alfabesi (29 harf) olarak belirlenmiştir. Bu alfabe, büyük Türkçe karakterleri içermektedir: ABCÇDEFGĞHIİJKLMNOÖPRSŞTUÜVYZ.\n",
        "* Anahtarlar: Çarpan anahtarı olarak 𝑎 = 5 a=5, toplama anahtarı olarak 𝑏 = 20 b=20 değerleri kullanılmıştır. Çarpan anahtarının mod 29 ters değeri 𝑎 − 1 = 6 a −1 =6 olarak belirlenmiştir.\n",
        "\n",
        "---\n",
        "\n",
        "## Kodlama\n",
        "Aşağıda verilen Python kodu, Affine şifreleme ve çözme işlemlerini gerçekleştirmek üzere geliştirilmiştir:"
      ],
      "metadata": {
        "id": "sICPxdYTb6qo"
      }
    },
    {
      "cell_type": "code",
      "source": [
        "# Türkçe alfabesi (Z29)\n",
        "alphabet = \"ABCÇDEFGĞHIİJKLMNOÖPRSŞTUÜVYZ\""
      ],
      "metadata": {
        "id": "m95itm_oaV6a"
      },
      "execution_count": 1,
      "outputs": []
    },
    {
      "cell_type": "code",
      "source": [
        "# Affine kripto sistemi anahtarları\n",
        "a = 5  # çarpan anahtarı\n",
        "a_inverse = 6  # a'nın mod 29 tersini belirtiyor (yani 6)\n",
        "b = 20  # toplama anahtarı"
      ],
      "metadata": {
        "id": "SCYceP3AacYk"
      },
      "execution_count": 2,
      "outputs": []
    },
    {
      "cell_type": "code",
      "source": [
        "# Şifreleme ve çözme formülleri\n",
        "def affine_encrypt(text, a, b):\n",
        "    encrypted_text = \"\"\n",
        "    for char in text:\n",
        "        if char in alphabet:\n",
        "            x = alphabet.index(char)\n",
        "            # Şifreleme formülü: E(x) = (a * x + b) % 29\n",
        "            encrypted_char = alphabet[(a * x + b) % 29]\n",
        "            encrypted_text += encrypted_char\n",
        "        else:\n",
        "            encrypted_text += char  # Alfabe dışı karakterler aynı kalır\n",
        "    return encrypted_text"
      ],
      "metadata": {
        "id": "V6GMO4RJad9G"
      },
      "execution_count": 3,
      "outputs": []
    },
    {
      "cell_type": "code",
      "execution_count": 4,
      "metadata": {
        "id": "4EKwsXJ_Z8P6"
      },
      "outputs": [],
      "source": [
        "def affine_decrypt(encrypted_text, a_inverse, b):\n",
        "    decrypted_text = \"\"\n",
        "    for char in encrypted_text:\n",
        "        if char in alphabet:\n",
        "            y = alphabet.index(char)\n",
        "            # Çözme formülü: D(y) = (a^(-1) * (y - b)) % 29\n",
        "            decrypted_char = alphabet[(a_inverse * (y - b)) % 29]\n",
        "            decrypted_text += decrypted_char\n",
        "        else:\n",
        "            decrypted_text += char  # Alfabe dışı karakterler aynı kalır\n",
        "    return decrypted_text"
      ]
    },
    {
      "cell_type": "code",
      "source": [
        "# Şifrelenecek metin\n",
        "text = \"SELÇUK ÜNİVERSİTESİ TEKNOLOJİ FAKÜLTESİ BİLGİSAYAR MÜHENDİSLİĞİ BÖLÜMÜ\""
      ],
      "metadata": {
        "id": "j3qvwOGfatqY"
      },
      "execution_count": 5,
      "outputs": []
    },
    {
      "cell_type": "code",
      "source": [
        "# Şifreleme işlemi\n",
        "encrypted_text = affine_encrypt(text, a, b)\n",
        "print(\"Şifrelenmiş Metin:\", encrypted_text)"
      ],
      "metadata": {
        "colab": {
          "base_uri": "https://localhost:8080/"
        },
        "id": "--5MA2ECawxN",
        "outputId": "d685ac63-ddd1-4c28-f882-c1eaaa7ad598"
      },
      "execution_count": 6,
      "outputs": [
        {
          "output_type": "stream",
          "name": "stdout",
          "text": [
            "Şifrelenmiş Metin: HNÇFUY AKOENDHOPNHO PNYKÖÇÖŞO SRYAÇPNHO ÜOÇVOHRIRD ĞAGNKİOHÇOCO ÜTÇAĞA\n"
          ]
        }
      ]
    },
    {
      "cell_type": "markdown",
      "source": [
        "**affine_encrypt** metoduna parametre olarak \"SELÇUK ÜNİVERSİTESİ TEKNOLOJİ FAKÜLTESİ BİLGİSAYAR MÜHENDİSLİĞİ BÖLÜMÜ\" bilgisi, 5 ve 20 bilgisi gönderilmektedir.\n",
        "\n",
        "Ve metoddan dönen bilgi ekrana yazdırılmaktadır.\n"
      ],
      "metadata": {
        "id": "u98-Gxm0bHsA"
      }
    },
    {
      "cell_type": "code",
      "source": [
        "# Çözme işlemi\n",
        "decrypted_text = affine_decrypt(encrypted_text, a_inverse, b)\n",
        "print(\"Çözülmüş (Orijinal) Metin:\", decrypted_text)"
      ],
      "metadata": {
        "colab": {
          "base_uri": "https://localhost:8080/"
        },
        "id": "lLMAfij7ayUs",
        "outputId": "b15a177d-31e5-4ad5-ab07-c19fe1398fc8"
      },
      "execution_count": 7,
      "outputs": [
        {
          "output_type": "stream",
          "name": "stdout",
          "text": [
            "Çözülmüş (Orijinal) Metin: SELÇUK ÜNİVERSİTESİ TEKNOLOJİ FAKÜLTESİ BİLGİSAYAR MÜHENDİSLİĞİ BÖLÜMÜ\n"
          ]
        }
      ]
    },
    {
      "cell_type": "markdown",
      "source": [
        "**affine_decrypt** metoduna parametre olarak \"HNÇFUY AKOENDHOPNHO PNYKÖÇÖŞO SRYAÇPNHO ÜOÇVOHRIRD ĞAGNKİOHÇOCO ÜTÇAĞA\" bilgisi, 6 ve 20 bilgisi gönderilmektedir.\n",
        "\n",
        "Ve metoddan dönen bilgi ekrana yazdırılmaktadır."
      ],
      "metadata": {
        "id": "XRr23bsvbk_8"
      }
    },
    {
      "cell_type": "markdown",
      "source": [
        "---\n",
        "## Sonuçlar\n",
        "Yukarıdaki kod çalıştırıldığında şu işlemler gerçekleştirilmiştir: Şifreleme İşlemi: \"Selçuk Üniversitesi Teknoloji Fakültesi Bilgisayar Mühendisliği Bölümü\" metninin her harfi Affine Şifreleme Sistemi formülü kullanılarak şifrelenmiş ve şifrelenmiş metin elde edilmiştir. Çözme İşlemi: Şifrelenmiş metin, çözme formülü kullanılarak orijinal metne geri dönüştürülmüştür. Bu işlem, şifreleme anahtarlarının doğruluğunu ve sistemin güvenilirliğini teyit etmektedir.\n",
        "\n",
        "---\n",
        "\n",
        "## Sonuç ve Değerlendirme\n",
        "Affine Şifreleme Sistemi, Türkçe Z29 alfabesi kullanılarak başarılı bir şekilde uygulanmış ve orijinal metin şifrelenip çözülerek güvenilir bir veri gizliliği sağlanmıştır. Bu sistemin modüler aritmetik üzerine kurulu olması, anahtarlarla şifrelenmiş metnin güvenliğini artırmaktadır. Önerilen yöntemin, daha karmaşık kriptografik sistemlere geçmeden önce temel bir güvenlik yöntemi olarak değerlendirilmesi mümkündür.\n",
        "\n"
      ],
      "metadata": {
        "id": "e5Whx_l7a013"
      }
    }
  ]
}